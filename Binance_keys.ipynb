{
 "cells": [
  {
   "cell_type": "code",
   "execution_count": 1,
   "id": "c51c9108",
   "metadata": {},
   "outputs": [],
   "source": [
    "api_key = 'DZXjutiW8h1qaKI6P4PfkI4CEt1QoKZ6plPgur3KxB7W5OXnFjrio4IbenReGBHT'\n",
    "api_secret = 'NQ6HyyZtmFQQ803si1MpT4sYi04UKFiMb5ga4m0KdCz1GeawhWd4W5n3fEt7tL9T'"
   ]
  },
  {
   "cell_type": "code",
   "execution_count": null,
   "id": "2d47a091",
   "metadata": {},
   "outputs": [],
   "source": []
  }
 ],
 "metadata": {
  "kernelspec": {
   "display_name": "Python 3",
   "language": "python",
   "name": "python3"
  },
  "language_info": {
   "codemirror_mode": {
    "name": "ipython",
    "version": 3
   },
   "file_extension": ".py",
   "mimetype": "text/x-python",
   "name": "python",
   "nbconvert_exporter": "python",
   "pygments_lexer": "ipython3",
   "version": "3.8.8"
  }
 },
 "nbformat": 4,
 "nbformat_minor": 5
}
